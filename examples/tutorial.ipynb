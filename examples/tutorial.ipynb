{
 "cells": [
  {
   "cell_type": "markdown",
   "metadata": {},
   "source": [
    "# A Guide to Using `TorchFit`\n",
    "\n",
    "`TorchFit` is a bare-bones, minimalistic, **training-helper for PyTorch** that exposes an easy-to-use `fit` method in the style of **fastai** and **Keras**.  It is intended to be easy-to-apply with a tiny footprint and as little bloat as possible, which makes it particularly well-suited to those new to PyTorch looking to train classifiers.   \n",
    "\n",
    "*For more complex training scnenarios (e.g., training GANs, multi-node GPU training), [PyTorch Lightning](https://github.com/PyTorchLightning/pytorch-lightning) is highly recommended.*\n",
    "\n",
    "The model and dataset used in this tutorial are taken directly from the [PyTorch Text Classification Tutorial](https://pytorch.org/tutorials/beginner/text_sentiment_ngrams_tutorial.html).\n",
    "\n",
    "Let's begin by importing some standard Torch and Python modules:"
   ]
  },
  {
   "cell_type": "code",
   "execution_count": 1,
   "metadata": {},
   "outputs": [],
   "source": [
    "%reload_ext autoreload\n",
    "%autoreload 2\n",
    "%matplotlib inline\n",
    "\n",
    "# torch stuff\n",
    "import torch\n",
    "import torch.nn as nn\n",
    "import torch.nn.functional as F\n",
    "from torch.utils.data import DataLoader\n",
    "from torch.utils.data.dataset import random_split\n",
    "\n",
    "# torchtext for preprocessing\n",
    "import torchtext\n",
    "from torchtext.datasets import text_classification"
   ]
  },
  {
   "cell_type": "markdown",
   "metadata": {},
   "source": [
    "Next, import `TorchFit`:"
   ]
  },
  {
   "cell_type": "code",
   "execution_count": 2,
   "metadata": {},
   "outputs": [],
   "source": [
    "import torchfit"
   ]
  },
  {
   "cell_type": "markdown",
   "metadata": {},
   "source": [
    "## Define Your Data and Model Normally in PyTorch\n",
    "\n",
    "We will begin by constructing data loaders for the training, validation, and test sets and defining a model just as one would normally do when using **PyTorch**. \n",
    "\n",
    "We use a text classification model based on an `EmbeddingBag` layer and the AG_NEWS dataset - both of which were used in the [PyTorch Text Classification Tutorial](https://pytorch.org/tutorials/beginner/text_sentiment_ngrams_tutorial.html).\n",
    "\n",
    "By default, `TorchFit` can be directly used with any model accepting either a single input Tensor or a list of input Tensors.  For these reasons, we have configured `generate_batch` to generate tuples in the form `([text, offsets], label)` instead of `(text, offsets, label)`. \n",
    "\n",
    "*(To handle alternative data formats and other non-standard steps (e.g., loss computations), one can easily subclass `torchfit.Learner` and override a small number of methods to satisfy such non-standard training scenarios.  We show an example of this at the end of this notebook.)*"
   ]
  },
  {
   "cell_type": "code",
   "execution_count": 3,
   "metadata": {},
   "outputs": [
    {
     "name": "stderr",
     "output_type": "stream",
     "text": [
      "120000lines [00:08, 14984.76lines/s]\n",
      "120000lines [00:16, 7213.03lines/s]\n",
      "7600lines [00:01, 7419.70lines/s]\n"
     ]
    }
   ],
   "source": [
    "# The code in this cell is from the PyTorch tutorials:\n",
    "#   https://pytorch.org/tutorials/beginner/text_sentiment_ngrams_tutorial.html\n",
    "\n",
    "# DATALOADERS\n",
    "NGRAMS = 2\n",
    "import os\n",
    "if not os.path.isdir('./.data'):\n",
    "\tos.mkdir('./.data')\n",
    "train_dataset, test_dataset = text_classification.DATASETS['AG_NEWS'](\n",
    "    root='./.data', ngrams=NGRAMS, vocab=None)\n",
    "BATCH_SIZE = 16\n",
    "device = torch.device(\"cuda\" if torch.cuda.is_available() else \"cpu\")\n",
    "\n",
    "def generate_batch(batch):\n",
    "    label = torch.tensor([entry[0] for entry in batch])\n",
    "    text = [entry[1] for entry in batch]\n",
    "    offsets = [0] + [len(entry) for entry in text]\n",
    "    offsets = torch.tensor(offsets[:-1]).cumsum(dim=0)\n",
    "    text = torch.cat(text)\n",
    "    return [text, offsets], label\n",
    "\n",
    "train_len = int(len(train_dataset) * 0.95)\n",
    "sub_train_, sub_valid_ = \\\n",
    "    random_split(train_dataset, [train_len, len(train_dataset) - train_len])\n",
    "train_loader = DataLoader(sub_train_, batch_size=BATCH_SIZE, shuffle=True,\n",
    "                          collate_fn=generate_batch)\n",
    "val_loader = DataLoader(sub_valid_, batch_size=BATCH_SIZE, shuffle=True,\n",
    "                          collate_fn=generate_batch)\n",
    "test_loader = DataLoader(test_dataset, batch_size=BATCH_SIZE, collate_fn=generate_batch)\n",
    "\n",
    "# MODEL\n",
    "class MyTextClassifier(nn.Module):\n",
    "    def __init__(self, vocab_size, embed_dim, num_class):\n",
    "        super().__init__()\n",
    "        self.embedding = nn.EmbeddingBag(vocab_size, embed_dim, sparse=True)\n",
    "        self.fc = nn.Linear(embed_dim, num_class)\n",
    "        self.init_weights()\n",
    "\n",
    "    def init_weights(self):\n",
    "        initrange = 0.5\n",
    "        self.embedding.weight.data.uniform_(-initrange, initrange)\n",
    "        self.fc.weight.data.uniform_(-initrange, initrange)\n",
    "        self.fc.bias.data.zero_()\n",
    "\n",
    "    def forward(self, data):\n",
    "        text = data[0]\n",
    "        offsets = data[1]\n",
    "        embedded = self.embedding(text, offsets)\n",
    "        return self.fc(embedded)\n",
    "    \n",
    "VOCAB_SIZE = len(train_dataset.get_vocab())\n",
    "EMBED_DIM = 32\n",
    "NUN_CLASS = len(train_dataset.get_labels())\n",
    "model = MyTextClassifier(VOCAB_SIZE, EMBED_DIM, NUN_CLASS)\n",
    "\n",
    "# OPTIMIZER, LOSS FUNCTION, and METRICS\n",
    "optimizer = torch.optim.SGD(model.parameters(), lr=1.0)\n",
    "criterion = torch.nn.CrossEntropyLoss()\n",
    "import numpy as np\n",
    "def accuracy(y_true, y_pred):\n",
    "    return np.mean(y_true.numpy() == np.argmax(y_pred.numpy(), axis=1))"
   ]
  },
  {
   "cell_type": "markdown",
   "metadata": {},
   "source": [
    "## Wrap Model and Data in  `torchfit.Learner`\n",
    "\n",
    "Having constructed our model and data loaders, we will wrap everything in a `torchfit.Learner` object to help us train the model."
   ]
  },
  {
   "cell_type": "code",
   "execution_count": 4,
   "metadata": {},
   "outputs": [],
   "source": [
    "import torchfit\n",
    "learner = torchfit.Learner(model, train_loader, val_loader=val_loader, \n",
    "                           optimizer=optimizer, loss=criterion, device=device)"
   ]
  },
  {
   "cell_type": "markdown",
   "metadata": {},
   "source": [
    "## Estimate Learning Rate\n",
    "\n",
    "We can use the `find_lr` method to estimate a good learning rate for training given our data and model.\n",
    "This will generate a plot from which we can select a learning rate associated with a falling loss. We choose to set the `start_lr` and `end_lr` relatively higher than the default because the `SGD` optimizer tends to have higher learning rates than others like `Adam`. We also run `find_lr` for a larger number of iterations (i.e., 1500) to obtain a more accurate estimate of the maximum learning rate we can use for this problem."
   ]
  },
  {
   "cell_type": "code",
   "execution_count": 5,
   "metadata": {},
   "outputs": [
    {
     "data": {
      "application/vnd.jupyter.widget-view+json": {
       "model_id": "330708b7865145d29cb672d66f5880d0",
       "version_major": 2,
       "version_minor": 0
      },
      "text/plain": [
       "HBox(children=(IntProgress(value=0, max=1500), HTML(value='')))"
      ]
     },
     "metadata": {},
     "output_type": "display_data"
    },
    {
     "data": {
      "image/png": "[encoded data removed]",
      "text/plain": [
       "<Figure size 432x288 with 1 Axes>"
      ]
     },
     "metadata": {
      "needs_background": "light"
     },
     "output_type": "display_data"
    },
    {
     "name": "stdout",
     "output_type": "stream",
     "text": [
      "From the plot, select the highest learning rate still associated with a falling loss.\n"
     ]
    }
   ],
   "source": [
    "learner.find_lr(start_lr=0.1, end_lr=10, num_iter=1500)"
   ]
  },
  {
   "cell_type": "markdown",
   "metadata": {},
   "source": [
    "Based on the plot, we will use a learning rate of `4.0`.\n",
    "\n",
    "## Train the Model\n",
    "\n",
    "We will train using the `fit_onecycle` method, which employs a [slanted triangle learning rate policy (STLR)](https://arxiv.org/abs/1801.06146) proposed by Howard and Ruder (2018). STLR is a variation on the [1cycle policy](https://arxiv.org/pdf/1803.09820.pdf) proposed by Leslie Smith, which has been shown to be exceedingly effective across a variety of models and datasets."
   ]
  },
  {
   "cell_type": "code",
   "execution_count": 6,
   "metadata": {},
   "outputs": [],
   "source": [
    "lr = 4.0"
   ]
  },
  {
   "cell_type": "code",
   "execution_count": 7,
   "metadata": {},
   "outputs": [
    {
     "name": "stdout",
     "output_type": "stream",
     "text": [
      "Epoch 1 / 3\n",
      "[========================================] 100%\t  loss: 0.6565  accuracy: 0.9242  val_loss: 0.3245  val_accuracy: 0.8923\n",
      "\n",
      "Epoch 2 / 3\n",
      "[========================================] 100%\t  loss: 0.2260  accuracy: 0.9610  val_loss: 0.2812  val_accuracy: 0.9082\n",
      "\n",
      "Epoch 3 / 3\n",
      "[========================================] 100%\t  loss: 0.1255  accuracy: 0.9737  val_loss: 0.2773  val_accuracy: 0.9118\n",
      "\n"
     ]
    },
    {
     "data": {
      "text/plain": [
       "<torchfit.utils.History at 0x7f149f3879e8>"
      ]
     },
     "execution_count": 7,
     "metadata": {},
     "output_type": "execute_result"
    }
   ],
   "source": [
    "learner.fit_onecycle(lr, 3)"
   ]
  },
  {
   "cell_type": "markdown",
   "metadata": {},
   "source": [
    "With 3 epochs, we are at a **91%** accuracy. Let's plot the training vs. validation loss and also examine a plot of the learning rate schedule we employed."
   ]
  },
  {
   "cell_type": "code",
   "execution_count": 8,
   "metadata": {},
   "outputs": [
    {
     "data": {
      "image/png": "[encoded data removed]",
      "text/plain": [
       "<Figure size 432x288 with 1 Axes>"
      ]
     },
     "metadata": {
      "needs_background": "light"
     },
     "output_type": "display_data"
    }
   ],
   "source": [
    "learner.plot('loss')"
   ]
  },
  {
   "cell_type": "code",
   "execution_count": 9,
   "metadata": {},
   "outputs": [
    {
     "data": {
      "image/png": "[encoded data removed]",
      "text/plain": [
       "<Figure size 432x288 with 1 Axes>"
      ]
     },
     "metadata": {
      "needs_background": "light"
     },
     "output_type": "display_data"
    }
   ],
   "source": [
    "learner.plot('lr')"
   ]
  },
  {
   "cell_type": "markdown",
   "metadata": {},
   "source": [
    "The `fit_onecycle` method includes a `start_pct` parameter that controls the degree of the slant.  At `start_pct=0.5`, this reduces to a classical 1cycle policy.  \n",
    "\n",
    "In addition, user-configured learning rate schedules can also be used. For instance, one can train with a manually-configured slanted triangle learning rate schedule as follows:\n",
    "\n",
    "\n",
    "```python\n",
    "epochs=3\n",
    "scheduler = torch.optim.lr_scheduler.CyclicLR(learner.optimizer, \n",
    "                                             base_lr=lr/10, \n",
    "                                             max_lr=lr, \n",
    "                                             cycle_momentum=False, \n",
    "                                             step_size_up=epochs*len(train_loader)//3,\n",
    "                                             step_size_down=epochs*2*len(train_loader)//3)\n",
    "hist = learner.fit(lr, epochs, schedulers=[scheduler])\n",
    "```\n",
    "\n",
    "Note that, when explicitly suppying user-configured learning rate scheduler to `learner.fit`, the the `lr` parameter to `fit` is ignored and the learning rate setting in the optimizer and/or scheduler is used instead (`max_lr` in the example above)."
   ]
  },
  {
   "cell_type": "markdown",
   "metadata": {},
   "source": [
    "## Making Predictions\n",
    "\n",
    "Let's make predictions on the test set.  The `learner.predict` method returns a NumPy array of the predictions\n",
    "and optionally the ground truth targets, as well."
   ]
  },
  {
   "cell_type": "code",
   "execution_count": 10,
   "metadata": {},
   "outputs": [],
   "source": [
    "outputs, targets = learner.predict(test_loader, return_targets=True)"
   ]
  },
  {
   "cell_type": "code",
   "execution_count": 11,
   "metadata": {},
   "outputs": [
    {
     "name": "stdout",
     "output_type": "stream",
     "text": [
      "test accuracy is: 0.9090789473684211\n"
     ]
    }
   ],
   "source": [
    "print('test accuracy is: %s' % ((np.mean(targets == np.argmax(outputs, axis=-1)))))"
   ]
  },
  {
   "cell_type": "markdown",
   "metadata": {},
   "source": [
    "Next, let's make predictions on random raw data that we generate.  To do so, we will create a custom `prepreprocess` function that will transform the raw data into the form expected by our model. \n",
    "\n",
    "We can then use the `predict_example` method to generate predictions from raw data."
   ]
  },
  {
   "cell_type": "code",
   "execution_count": 12,
   "metadata": {},
   "outputs": [],
   "source": [
    "# A prepreprocess function for our problem\n",
    "\n",
    "import re\n",
    "from torchtext.data.utils import ngrams_iterator\n",
    "from torchtext.data.utils import get_tokenizer\n",
    "vocab = train_dataset.get_vocab()\n",
    "\n",
    "labels = ['World', 'Sports', 'Business', 'Sci/Tech']\n",
    "\n",
    "def preprocess(text):\n",
    "    tokenizer = get_tokenizer(\"basic_english\")\n",
    "    with torch.no_grad():\n",
    "        text = torch.tensor([vocab[token]\n",
    "                            for token in ngrams_iterator(tokenizer(text), 2)])\n",
    "        return [text, torch.tensor([0])]"
   ]
  },
  {
   "cell_type": "code",
   "execution_count": 13,
   "metadata": {},
   "outputs": [
    {
     "data": {
      "text/plain": [
       "'Sports'"
      ]
     },
     "execution_count": 13,
     "metadata": {},
     "output_type": "execute_result"
    }
   ],
   "source": [
    "text = \"MEMPHIS, Tenn. – Four days ago, Jon Rahm was \\\n",
    "    enduring the season’s worst weather conditions on Sunday at The \\\n",
    "    Open on his way to a closing 75 at Royal Portrush, which \\\n",
    "    considering the wind and the rain was a respectable showing. \\\n",
    "    Thursday’s first round at the WGC-FedEx St. Jude Invitational \\\n",
    "    was another story. With temperatures in the mid-80s and hardly any \\\n",
    "    wind, the Spaniard was 13 strokes better in a flawless round. \\\n",
    "    Thanks to his best putting performance on the PGA Tour, Rahm \\\n",
    "    finished with an 8-under 62 for a three-stroke lead, which \\\n",
    "    was even more impressive considering he’d never played the \\\n",
    "    front nine at TPC Southwind.\"\n",
    "\n",
    "learner.predict_example(text, preproc_fn=preprocess, labels=labels)"
   ]
  },
  {
   "cell_type": "code",
   "execution_count": 14,
   "metadata": {},
   "outputs": [
    {
     "data": {
      "text/plain": [
       "'Business'"
      ]
     },
     "execution_count": 14,
     "metadata": {},
     "output_type": "execute_result"
    }
   ],
   "source": [
    "text = 'The stock price of IBM shot up today after its earnings report.'\n",
    "learner.predict_example(text, preproc_fn=preprocess, labels=labels)"
   ]
  },
  {
   "cell_type": "code",
   "execution_count": 15,
   "metadata": {},
   "outputs": [
    {
     "data": {
      "text/plain": [
       "'World'"
      ]
     },
     "execution_count": 15,
     "metadata": {},
     "output_type": "execute_result"
    }
   ],
   "source": [
    "text = 'Iran continues its nuclear development despite sanctions by the United Nations.'\n",
    "learner.predict_example(text, preproc_fn=preprocess, labels=labels)"
   ]
  },
  {
   "cell_type": "markdown",
   "metadata": {},
   "source": [
    "## Saving and Restoring Models\n",
    "\n",
    "We can save our model to disk and reload it later in deployment."
   ]
  },
  {
   "cell_type": "code",
   "execution_count": 16,
   "metadata": {},
   "outputs": [],
   "source": [
    "learner.save('/tmp/mymodel')"
   ]
  },
  {
   "cell_type": "code",
   "execution_count": 17,
   "metadata": {},
   "outputs": [],
   "source": [
    "learner.load('/tmp/mymodel')"
   ]
  },
  {
   "cell_type": "code",
   "execution_count": 18,
   "metadata": {},
   "outputs": [
    {
     "name": "stdout",
     "output_type": "stream",
     "text": [
      "test accuracy is: 0.9090789473684211\n"
     ]
    }
   ],
   "source": [
    "outputs = np.argmax(learner.predict(test_loader), axis=-1)\n",
    "labels = [label for data, label in test_loader]\n",
    "print('test accuracy is: %s' % ((np.mean(targets == outputs))))"
   ]
  },
  {
   "cell_type": "markdown",
   "metadata": {},
   "source": [
    "## Using `TorchFit` in Non-Standard Training Scenarios\n",
    "\n",
    "The standard boilerplate code for training is typically:\n",
    "\n",
    "```python\n",
    "inputs, target = batch[0], batch[1] # extract data from batch\n",
    "outputs = model(inputs)             # forward pass\n",
    "loss = criterion(outputs, targets)  # compute loss\n",
    "loss.backward()                     # backward pass\n",
    "optimizer.step()                    # optimize\n",
    "```\n",
    "Some situations diverge from this standard template. Suppose, for instance, we want to manually add regularization to our loss as follows:\n",
    "```python\n",
    "loss = self.criterion(output, targets)\n",
    "reg_loss = 0\n",
    "for param in self.parameters():\n",
    "    reg_loss += 0.001 * torch.sum(param * param)\n",
    "loss = loss + reg_loss\n",
    "```\n",
    "\n",
    "Such custom steps in training can be handled in `TorchFit` by subclassing the `torchfit.Learner` class and overriding at most five methods: `forward`, `compute_loss`, `train_step`, `validation_step`, `test_step`.  To illustrate this, let's re-implement the model above with one change.  We will configure the model to accept exactly two inputs for the `EmbeddingBag` layer:  `text` and `offsets` instead of a single list of inputs (see the `forward` method and the `generate_batch` function below)."
   ]
  },
  {
   "cell_type": "code",
   "execution_count": 19,
   "metadata": {},
   "outputs": [
    {
     "name": "stderr",
     "output_type": "stream",
     "text": [
      "120000lines [00:07, 15092.02lines/s]\n",
      "120000lines [00:16, 7141.90lines/s]\n",
      "7600lines [00:01, 7241.05lines/s]\n"
     ]
    }
   ],
   "source": [
    "# DATALOADERS\n",
    "NGRAMS = 2\n",
    "import os\n",
    "if not os.path.isdir('./.data'):\n",
    "\tos.mkdir('./.data')\n",
    "train_dataset, test_dataset = text_classification.DATASETS['AG_NEWS'](\n",
    "    root='./.data', ngrams=NGRAMS, vocab=None)\n",
    "BATCH_SIZE = 16\n",
    "device = torch.device(\"cuda\" if torch.cuda.is_available() else \"cpu\")\n",
    "\n",
    "def generate_batch(batch):\n",
    "    label = torch.tensor([entry[0] for entry in batch])\n",
    "    text = [entry[1] for entry in batch]\n",
    "    offsets = [0] + [len(entry) for entry in text]\n",
    "    offsets = torch.tensor(offsets[:-1]).cumsum(dim=0)\n",
    "    text = torch.cat(text)\n",
    "    return text, offsets, label\n",
    "\n",
    "train_len = int(len(train_dataset) * 0.95)\n",
    "sub_train_, sub_valid_ = \\\n",
    "    random_split(train_dataset, [train_len, len(train_dataset) - train_len])\n",
    "train_loader = DataLoader(sub_train_, batch_size=BATCH_SIZE, shuffle=True,\n",
    "                          collate_fn=generate_batch)\n",
    "val_loader = DataLoader(sub_valid_, batch_size=BATCH_SIZE, shuffle=True,\n",
    "                          collate_fn=generate_batch)\n",
    "test_loader = DataLoader(test_dataset, batch_size=BATCH_SIZE, collate_fn=generate_batch)\n",
    "\n",
    "# MODEL\n",
    "class MyTextClassifier(nn.Module):\n",
    "    def __init__(self, vocab_size, embed_dim, num_class):\n",
    "        super().__init__()\n",
    "        self.embedding = nn.EmbeddingBag(vocab_size, embed_dim, sparse=True)\n",
    "        self.fc = nn.Linear(embed_dim, num_class)\n",
    "        self.init_weights()\n",
    "\n",
    "    def init_weights(self):\n",
    "        initrange = 0.5\n",
    "        self.embedding.weight.data.uniform_(-initrange, initrange)\n",
    "        self.fc.weight.data.uniform_(-initrange, initrange)\n",
    "        self.fc.bias.data.zero_()\n",
    "\n",
    "    def forward(self, text, offsets):\n",
    "        embedded = self.embedding(text, offsets)\n",
    "        return self.fc(embedded)\n",
    "    \n",
    "VOCAB_SIZE = len(train_dataset.get_vocab())\n",
    "EMBED_DIM = 32\n",
    "NUN_CLASS = len(train_dataset.get_labels())\n",
    "model = MyTextClassifier(VOCAB_SIZE, EMBED_DIM, NUN_CLASS)\n",
    "\n",
    "# OPTIMIZER, LOSS FUNCTION, and METRICS\n",
    "optimizer = torch.optim.SGD(model.parameters(), lr=1.0)\n",
    "criterion = torch.nn.CrossEntropyLoss()\n",
    "import numpy as np\n",
    "def accuracy(y_true, y_pred):\n",
    "    return np.mean(y_true.numpy() == np.argmax(y_pred.numpy(), axis=1))"
   ]
  },
  {
   "cell_type": "markdown",
   "metadata": {},
   "source": [
    "#### Subclassing `torchfit.Learner`\n",
    "\n",
    "Next, we will subclass `torchfit.Learner` and override at most five methods to handle custom scenarios.  For this problem, we only really need to override `forward` and `train_step`, but we override all five methods for illustration purposes."
   ]
  },
  {
   "cell_type": "code",
   "execution_count": 20,
   "metadata": {},
   "outputs": [],
   "source": [
    "class CustomLearner(torchfit.Learner):\n",
    "    def forward(self, text, offsets):\n",
    "        \"\"\"\n",
    "        Needs to be overridden since EmbeddingBag\n",
    "        model is expecting text and offsets in as \n",
    "        separate parameters\n",
    "        \"\"\"\n",
    "        return self.model(text, offsets)\n",
    "\n",
    "\n",
    "    def train_step(self, batch, batch_idx):\n",
    "        \"\"\"\n",
    "        Needs to be overridden since batches\n",
    "        are in a form specific to EmbeddingBag layer\n",
    "        \"\"\"\n",
    "        text, offsets, label = batch\n",
    "        text = text.to(device)\n",
    "        offsets = offsets.to(device)\n",
    "        label = label.to(device)\n",
    "        outputs = self.forward(text, offsets)\n",
    "\n",
    "        # compute loss\n",
    "        batch_loss = self.compute_loss(outputs, label)\n",
    "        return {'loss': batch_loss, 'targets':label, 'outputs': outputs}\n",
    "\n",
    "    def compute_loss(self, outputs, targets):\n",
    "        \"\"\"Not required to be overriden for this particular problem\"\"\"\n",
    "        return self.loss(outputs, targets)\n",
    "\n",
    "    def validation_step(self, batch, batch_idx):\n",
    "        \"\"\"Not required to be overrident of this particular problem\"\"\"\n",
    "        return self.train_step(batch, batch_idx)\n",
    "    \n",
    "    def validation_step(self, batch, batch_idx):\n",
    "        \"\"\"Not required to be overrident for this particular problem\"\"\"\n",
    "        return self.train_step(batch, batch_idx)"
   ]
  },
  {
   "cell_type": "code",
   "execution_count": 21,
   "metadata": {},
   "outputs": [],
   "source": [
    "learner = CustomLearner(model, train_loader, val_loader=val_loader, \n",
    "                        optimizer=optimizer, loss=criterion, device=device)"
   ]
  },
  {
   "cell_type": "code",
   "execution_count": 22,
   "metadata": {},
   "outputs": [
    {
     "name": "stdout",
     "output_type": "stream",
     "text": [
      "Epoch 1 / 1\n",
      "[========================================] 100%\t  loss: 0.5132  accuracy: 0.9274  val_loss: 0.3027  val_accuracy: 0.9028\n",
      "\n"
     ]
    },
    {
     "data": {
      "text/plain": [
       "<torchfit.utils.History at 0x7f149f3e2898>"
      ]
     },
     "execution_count": 22,
     "metadata": {},
     "output_type": "execute_result"
    }
   ],
   "source": [
    "learner.fit_onecycle(4, 1)"
   ]
  },
  {
   "cell_type": "markdown",
   "metadata": {},
   "source": [
    "### Additional Features\n",
    "\n",
    "`TorchFit` also includes support for many other features:\n",
    "\n",
    "#### Resetting the Model\n",
    "The weights of the neural network model can be easily reset using `learner.reset_weights()`. \n",
    "\n",
    "\n",
    "#### Gradient Accumulation\n",
    "```learner.fit_onecycle(lr, 1, accumulation_steps=8)```\n",
    "\n",
    "#### Gradient Clipping\n",
    "```learner.fit_onecycle(lr, 1, gradient_clip_val=1)```\n",
    "\n",
    "\n",
    "#### Mixed Precision Training\n",
    "```torchfit.Learner(model, train_loader, val_loader=val_loader, use_amp=True, amp_level='O2')```\n",
    "\n",
    "#### Multi-GPU Training and GPU Selection\n",
    "\n",
    "To train on first two GPUs (0 and 1):\n",
    "\n",
    "```learner = torchfit.Learner(model, train_loader, val_loader=test_loader, gpus=[0,1])```\n",
    "\n",
    "To train only on the second GPU, one can do either this:\n",
    "\n",
    "```learner = torchfit.Learner(model, train_loader, val_loader=test_loader, gpus=[1])```\n",
    "\n",
    "or this...\n",
    "\n",
    "```learner = torchfit.Learner(model, train_loader, val_loader=test_loader, device='cuda:1')```"
   ]
  },
  {
   "cell_type": "code",
   "execution_count": null,
   "metadata": {},
   "outputs": [],
   "source": []
  },
  {
   "cell_type": "code",
   "execution_count": null,
   "metadata": {},
   "outputs": [],
   "source": []
  }
 ],
 "metadata": {
  "kernelspec": {
   "display_name": "Python 3",
   "language": "python",
   "name": "python3"
  },
  "language_info": {
   "codemirror_mode": {
    "name": "ipython",
    "version": 3
   },
   "file_extension": ".py",
   "mimetype": "text/x-python",
   "name": "python",
   "nbconvert_exporter": "python",
   "pygments_lexer": "ipython3",
   "version": "3.6.9"
  }
 },
 "nbformat": 4,
 "nbformat_minor": 1
}
