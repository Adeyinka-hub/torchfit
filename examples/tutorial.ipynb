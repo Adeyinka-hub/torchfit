{
 "cells": [
  {
   "cell_type": "markdown",
   "metadata": {},
   "source": [
    "# A Guide to Using `TorchFit`\n",
    "\n",
    "`TorchFit` is a minimalistic, barebones training-helper for PyTorch that exposes an easy-to-use `fit` method in the style of **fastai** and **Keras**.  It is intended to be easy-to-follow with a tiny footprint and as little bloat as possible. `TorchFit` is particularly well-suited to those new to PyTorch looking to train classifiers. For more complex training scnenarios (e.g., training GANs, multi-node GPU training), [PyTorch Lightning](https://github.com/PyTorchLightning/pytorch-lightning) is highly recommended."
   ]
  },
  {
   "cell_type": "code",
   "execution_count": 1,
   "metadata": {},
   "outputs": [],
   "source": [
    "%reload_ext autoreload\n",
    "%autoreload 2\n",
    "%matplotlib inline\n",
    "\n",
    "# some imports\n",
    "import numpy as np\n",
    "import torch\n",
    "import torch.nn as nn\n",
    "import torch.nn.functional as F\n",
    "import torch.optim as optim\n",
    "from torchvision import datasets, transforms\n",
    "\n",
    "# configuration variables\n",
    "SEED = 42\n",
    "DEVICE = 'cuda' # change to 'cpu' if training on CPU\n",
    "BATCH_SIZE = 32"
   ]
  },
  {
   "cell_type": "markdown",
   "metadata": {},
   "source": [
    "### Define a `DataLoader` for training/validation and a model in PyTorch just as you normally would\n",
    "\n",
    "Most of the code below is taken directly from some previous version of the [PyTorch MNIST example](https://github.com/pytorch/examples/blob/master/mnist/main.py)."
   ]
  },
  {
   "cell_type": "code",
   "execution_count": 2,
   "metadata": {},
   "outputs": [],
   "source": [
    "# setup DataLoaders for training and validation as you normally would\n",
    "kwargs = {'num_workers': 1, 'pin_memory': True} if DEVICE=='cuda' else {}\n",
    "train_loader = torch.utils.data.DataLoader(\n",
    "    datasets.MNIST('/tmp/mnist', train=True, download=True,\n",
    "                   transform=transforms.Compose([\n",
    "                       transforms.ToTensor(),\n",
    "                       transforms.Normalize((0.1307,), (0.3081,))\n",
    "                   ])),\n",
    "    batch_size=BATCH_SIZE, shuffle=True, **kwargs)\n",
    "test_loader = torch.utils.data.DataLoader(\n",
    "    datasets.MNIST('/tmp/mnist', train=False, transform=transforms.Compose([\n",
    "                       transforms.ToTensor(),\n",
    "                       transforms.Normalize((0.1307,), (0.3081,))\n",
    "                   ])),\n",
    "    batch_size=BATCH_SIZE, shuffle=False, **kwargs)\n",
    "\n",
    "# define a PyTorch model as you normally would\n",
    "class Net(nn.Module):\n",
    "    def __init__(self):\n",
    "        super(Net, self).__init__()\n",
    "        self.conv1 = nn.Conv2d(1, 10, kernel_size=5)\n",
    "        self.conv2 = nn.Conv2d(10, 20, kernel_size=5)\n",
    "        self.conv2_drop = nn.Dropout2d()\n",
    "        self.fc1 = nn.Linear(320, 50)\n",
    "        self.fc2 = nn.Linear(50, 10)\n",
    "\n",
    "    def forward(self, x):\n",
    "        x = F.relu(F.max_pool2d(self.conv1(x), 2))\n",
    "        x = F.relu(F.max_pool2d(self.conv2_drop(self.conv2(x)), 2))\n",
    "        x = x.view(-1, 320)\n",
    "        x = F.relu(self.fc1(x))\n",
    "        x = F.dropout(x, training=self.training)\n",
    "        x = self.fc2(x)\n",
    "        return F.log_softmax(x, dim=1)\n",
    "    \n",
    "model = Net()\n",
    "\n",
    "# setup the optimizer, loss function, and metrics as you normally would\n",
    "optimizer = optim.Adam(model.parameters())\n",
    "loss = nn.CrossEntropyLoss()\n",
    "def accuracy(y_true, y_pred):\n",
    "    return np.mean(y_true.numpy() == np.argmax(y_pred.numpy(), axis=1))"
   ]
  },
  {
   "cell_type": "markdown",
   "metadata": {},
   "source": [
    "### Wrap Model and Data in a `torchfit.Learner` Object"
   ]
  },
  {
   "cell_type": "code",
   "execution_count": 3,
   "metadata": {},
   "outputs": [],
   "source": [
    "# setup a torchfit.Learner instance\n",
    "import torchfit\n",
    "learner = torchfit.Learner(model, train_loader, val_loader=test_loader, \n",
    "                           optimizer=optimizer, loss=loss, metrics=[accuracy], seed=SEED, device='cuda')"
   ]
  },
  {
   "cell_type": "markdown",
   "metadata": {},
   "source": [
    "### Estimate the Learning Rate Using `learner.find_lr`\n",
    "\n",
    "We'll examine the plot and choose a learning rate associated with a falling loss. The `find_lr` method is simple a wrapper to the `torch-lr-finder` library by [David Silva](https://github.com/davidtvs).  In this example, we will run the learning rate finder for a larger number of iterations to produce slightly more accurate estimate, but less iterations are generally acceptable, as well."
   ]
  },
  {
   "cell_type": "code",
   "execution_count": 4,
   "metadata": {},
   "outputs": [
    {
     "data": {
      "application/vnd.jupyter.widget-view+json": {
       "model_id": "ff852b55388f481eaa3f3c600e6cf536",
       "version_major": 2,
       "version_minor": 0
      },
      "text/plain": [
       "HBox(children=(IntProgress(value=0, max=1500), HTML(value='')))"
      ]
     },
     "metadata": {},
     "output_type": "display_data"
    },
    {
     "data": {
      "image/png": "[encoded data removed]",
      "text/plain": [
       "<Figure size 432x288 with 1 Axes>"
      ]
     },
     "metadata": {
      "needs_background": "light"
     },
     "output_type": "display_data"
    },
    {
     "name": "stdout",
     "output_type": "stream",
     "text": [
      "From the plot, select the highest learning rate still associated with a falling loss.\n"
     ]
    }
   ],
   "source": [
    "# estimate learning rate\n",
    "learner.find_lr(num_iter=1500)"
   ]
  },
  {
   "cell_type": "markdown",
   "metadata": {},
   "source": [
    "We'll select `1e-3` as our maximum learning rate based on the plot."
   ]
  },
  {
   "cell_type": "code",
   "execution_count": 5,
   "metadata": {},
   "outputs": [],
   "source": [
    "lr = 1e-3"
   ]
  },
  {
   "cell_type": "markdown",
   "metadata": {},
   "source": [
    "### Train the Model Using a Learning Rate Scheduler\n",
    "\n",
    "We'll choose to train for **four epochs**. \n",
    "We'll also use the `optim.lr_scheduler.CyclicLR` class in PyTorch to configure a [slanted triangle learning rate policy](https://arxiv.org/pdf/1801.06146.pdf) proposed by Howard and Ruder (2018) and empoyed in the fastai library. It is a variation on [Leslie Smith's 1cycle policy](https://arxiv.org/pdf/1803.09820.pdf).  We'll then go ahead and train using `learner.fit`."
   ]
  },
  {
   "cell_type": "code",
   "execution_count": 6,
   "metadata": {},
   "outputs": [
    {
     "name": "stdout",
     "output_type": "stream",
     "text": [
      "Epoch 1 / 4\n",
      "[========================================] 100%\t  loss: 0.7808  accuracy: 0.9553  val_loss: 0.1323  val_accuracy: 0.9593\n",
      "\n",
      "Epoch 2 / 4\n",
      "[========================================] 100%\t  loss: 0.2982  accuracy: 0.9732  val_loss: 0.0755  val_accuracy: 0.9763\n",
      "\n",
      "Epoch 3 / 4\n",
      "[========================================] 100%\t  loss: 0.2122  accuracy: 0.9806  val_loss: 0.0569  val_accuracy: 0.9817\n",
      "\n",
      "Epoch 4 / 4\n",
      "[========================================] 100%\t  loss: 0.1816  accuracy: 0.9829  val_loss: 0.0485  val_accuracy: 0.9847\n",
      "\n"
     ]
    }
   ],
   "source": [
    "epochs = 4\n",
    "scheduler = optim.lr_scheduler.CyclicLR(optimizer, \n",
    "                                        base_lr=lr/10, \n",
    "                                        max_lr=lr, \n",
    "                                        cycle_momentum=False, \n",
    "                                        step_size_up=epochs*len(train_loader)//3,\n",
    "                                        step_size_down=epochs*2*len(train_loader)//3)\n",
    "hist = learner.fit(lr, epochs, schedulers=[scheduler])"
   ]
  },
  {
   "cell_type": "markdown",
   "metadata": {},
   "source": [
    "### Let's plot some training history"
   ]
  },
  {
   "cell_type": "code",
   "execution_count": 7,
   "metadata": {},
   "outputs": [
    {
     "data": {
      "image/png": "[encoded data removed]",
      "text/plain": [
       "<Figure size 432x288 with 1 Axes>"
      ]
     },
     "metadata": {
      "needs_background": "light"
     },
     "output_type": "display_data"
    }
   ],
   "source": [
    "# the slanted learning rate schedule we employed\n",
    "learner.plot('lr')"
   ]
  },
  {
   "cell_type": "code",
   "execution_count": 8,
   "metadata": {},
   "outputs": [
    {
     "data": {
      "image/png": "[encoded data removed]",
      "text/plain": [
       "<Figure size 432x288 with 1 Axes>"
      ]
     },
     "metadata": {
      "needs_background": "light"
     },
     "output_type": "display_data"
    }
   ],
   "source": [
    "# training loss vs. validation loss\n",
    "learner.plot('loss')"
   ]
  },
  {
   "cell_type": "markdown",
   "metadata": {},
   "source": [
    "The validation loss is still decreasing, so we could train further if desired."
   ]
  },
  {
   "cell_type": "markdown",
   "metadata": {},
   "source": [
    "### The `fit_onecycle` method\n",
    "\n",
    "Given that the **slanted triangle** and **1cycle** policies have been shown to be [quite effective](https://arxiv.org/pdf/1803.09820.pdf), `TorchFit` includes a convenience method called `fit_onecycle` that automates the steps above to setup a slanted triangle or 1cycle schedule.  The `start_pct` parameter can control the degree to which the triangle is slanted.  If `start_pct=0.5`, then a **1cycle** policy is generated. Otherwise, a **slanted triangle** policy is generated.\n",
    "\n",
    "Let's train for two additional epochs using `fit_onecycle` with `start_pct` set to `0.25`."
   ]
  },
  {
   "cell_type": "code",
   "execution_count": 9,
   "metadata": {},
   "outputs": [
    {
     "name": "stdout",
     "output_type": "stream",
     "text": [
      "Epoch 1 / 2\n",
      "[========================================] 100%\t  loss: 0.1831  accuracy: 0.9833  val_loss: 0.0488  val_accuracy: 0.9831\n",
      "\n",
      "Epoch 2 / 2\n",
      "[========================================] 100%\t  loss: 0.1591  accuracy: 0.9857  val_loss: 0.0411  val_accuracy: 0.9874\n",
      "\n"
     ]
    },
    {
     "data": {
      "text/plain": [
       "<torchfit.utils.History at 0x7f486e8b57f0>"
      ]
     },
     "execution_count": 9,
     "metadata": {},
     "output_type": "execute_result"
    }
   ],
   "source": [
    "learner.fit_onecycle(1e-3, 2, start_pct=0.25)"
   ]
  },
  {
   "cell_type": "code",
   "execution_count": 10,
   "metadata": {},
   "outputs": [
    {
     "data": {
      "image/png": "[encoded data removed]",
      "text/plain": [
       "<Figure size 432x288 with 1 Axes>"
      ]
     },
     "metadata": {
      "needs_background": "light"
     },
     "output_type": "display_data"
    }
   ],
   "source": [
    "learner.plot('lr')"
   ]
  },
  {
   "cell_type": "markdown",
   "metadata": {},
   "source": [
    "### Making Predictions on New Data\n",
    "\n",
    "For illustration purposes, we will simply make predictions on the validation set. We wil generate predictions for the first 10 images in the validation set and compare with ground truth."
   ]
  },
  {
   "cell_type": "code",
   "execution_count": 11,
   "metadata": {},
   "outputs": [
    {
     "data": {
      "text/html": [
       "<div>\n",
       "<style scoped>\n",
       "    .dataframe tbody tr th:only-of-type {\n",
       "        vertical-align: middle;\n",
       "    }\n",
       "\n",
       "    .dataframe tbody tr th {\n",
       "        vertical-align: top;\n",
       "    }\n",
       "\n",
       "    .dataframe thead th {\n",
       "        text-align: right;\n",
       "    }\n",
       "</style>\n",
       "<table border=\"1\" class=\"dataframe\">\n",
       "  <thead>\n",
       "    <tr style=\"text-align: right;\">\n",
       "      <th></th>\n",
       "      <th>Predicted</th>\n",
       "      <th>Actual</th>\n",
       "    </tr>\n",
       "  </thead>\n",
       "  <tbody>\n",
       "    <tr>\n",
       "      <th>0</th>\n",
       "      <td>7</td>\n",
       "      <td>7</td>\n",
       "    </tr>\n",
       "    <tr>\n",
       "      <th>1</th>\n",
       "      <td>2</td>\n",
       "      <td>2</td>\n",
       "    </tr>\n",
       "    <tr>\n",
       "      <th>2</th>\n",
       "      <td>1</td>\n",
       "      <td>1</td>\n",
       "    </tr>\n",
       "    <tr>\n",
       "      <th>3</th>\n",
       "      <td>0</td>\n",
       "      <td>0</td>\n",
       "    </tr>\n",
       "    <tr>\n",
       "      <th>4</th>\n",
       "      <td>4</td>\n",
       "      <td>4</td>\n",
       "    </tr>\n",
       "    <tr>\n",
       "      <th>5</th>\n",
       "      <td>1</td>\n",
       "      <td>1</td>\n",
       "    </tr>\n",
       "    <tr>\n",
       "      <th>6</th>\n",
       "      <td>4</td>\n",
       "      <td>4</td>\n",
       "    </tr>\n",
       "    <tr>\n",
       "      <th>7</th>\n",
       "      <td>9</td>\n",
       "      <td>9</td>\n",
       "    </tr>\n",
       "    <tr>\n",
       "      <th>8</th>\n",
       "      <td>5</td>\n",
       "      <td>5</td>\n",
       "    </tr>\n",
       "    <tr>\n",
       "      <th>9</th>\n",
       "      <td>9</td>\n",
       "      <td>9</td>\n",
       "    </tr>\n",
       "  </tbody>\n",
       "</table>\n",
       "</div>"
      ],
      "text/plain": [
       "   Predicted  Actual\n",
       "0          7       7\n",
       "1          2       2\n",
       "2          1       1\n",
       "3          0       0\n",
       "4          4       4\n",
       "5          1       1\n",
       "6          4       4\n",
       "7          9       9\n",
       "8          5       5\n",
       "9          9       9"
      ]
     },
     "execution_count": 11,
     "metadata": {},
     "output_type": "execute_result"
    }
   ],
   "source": [
    "# generate prediction using the Learner\n",
    "y_preds = np.argmax(learner.predict(test_loader), axis=-1)[:10]\n",
    "\n",
    "#  compile the ground truth labels from first batch\n",
    "y_true = next(iter(test_loader))[1][:10].cpu().detach().numpy()\n",
    "\n",
    "# display results\n",
    "import pandas as pd\n",
    "pd.DataFrame(zip(y_preds, y_true), columns=['Predicted', 'Actual']).head(10)"
   ]
  },
  {
   "cell_type": "markdown",
   "metadata": {},
   "source": [
    "### Saving and Restoring Models\n",
    "\n",
    "We can our model to disk and reload it later in deployment."
   ]
  },
  {
   "cell_type": "code",
   "execution_count": 12,
   "metadata": {},
   "outputs": [],
   "source": [
    "learner.save('/tmp/mymodel')"
   ]
  },
  {
   "cell_type": "code",
   "execution_count": 13,
   "metadata": {},
   "outputs": [],
   "source": [
    "learner.load('/tmp/mymodel')"
   ]
  },
  {
   "cell_type": "code",
   "execution_count": 14,
   "metadata": {},
   "outputs": [
    {
     "data": {
      "text/plain": [
       "array([7, 2, 1, 0, 4])"
      ]
     },
     "execution_count": 14,
     "metadata": {},
     "output_type": "execute_result"
    }
   ],
   "source": [
    "np.argmax(learner.predict(test_loader), axis=-1)[:5]"
   ]
  },
  {
   "cell_type": "markdown",
   "metadata": {},
   "source": [
    "### Additional Features\n",
    "\n",
    "The weights of the neural network model can be easily reset using `learner.reset_weights()`. \n",
    "\n",
    "`TorchFit` also includes support for **gradient accumulation** and **automatic mixed precision.**"
   ]
  },
  {
   "cell_type": "code",
   "execution_count": null,
   "metadata": {},
   "outputs": [],
   "source": []
  }
 ],
 "metadata": {
  "kernelspec": {
   "display_name": "Python 3",
   "language": "python",
   "name": "python3"
  },
  "language_info": {
   "codemirror_mode": {
    "name": "ipython",
    "version": 3
   },
   "file_extension": ".py",
   "mimetype": "text/x-python",
   "name": "python",
   "nbconvert_exporter": "python",
   "pygments_lexer": "ipython3",
   "version": "3.6.9"
  }
 },
 "nbformat": 4,
 "nbformat_minor": 2
}
